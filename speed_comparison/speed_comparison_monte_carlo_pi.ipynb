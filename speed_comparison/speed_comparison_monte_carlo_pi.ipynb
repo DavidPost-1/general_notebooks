{
 "cells": [
  {
   "cell_type": "code",
   "execution_count": 6,
   "metadata": {
    "collapsed": false
   },
   "outputs": [],
   "source": [
    "import numpy as np\n",
    "import random\n",
    "from numba import jit\n",
    "\n",
    "def python_pi_example(N):\n",
    "    N_under = 0 # Initiate counter variable\n",
    "    \n",
    "    for i in range(N): \n",
    "        x = random.random()\n",
    "        y = random.random() \n",
    "        if x**2 + y**2 <= 1:\n",
    "            N_under += 1\n",
    "    \n",
    "    return(4 * N_under / N) # Return pi\n",
    "\n",
    "\n",
    "def python_small_pi_example(N):\n",
    "    N_under = sum([1 for i in range(N) if random.random()**2 + random.random()**2 <= 1])\n",
    "    return( 4 * N_under / N)\n",
    "\n",
    "\n",
    "def numpy_pi_example(N):\n",
    "    x, y = np.random.rand(2, N)\n",
    "    N_under = (x**2 + y**2 <= 1).sum()\n",
    "    return(4 * N_under/ N)\n",
    "\n",
    "@jit\n",
    "def jitted_python_pi_example(N):\n",
    "    N_under = 0\n",
    "    for i in range(N): \n",
    "        x = random.random()\n",
    "        y = random.random() \n",
    "        if x**2 + y**2 <= 1:\n",
    "            N_under += 1\n",
    "    \n",
    "    return(4 * N_under / N) # Return pi\n",
    "\n",
    "from cython_pi import cython_pi_example\n",
    "\n",
    "# Specify the number of random coordinates to generate\n",
    "N = int(1e6)"
   ]
  },
  {
   "cell_type": "code",
   "execution_count": 7,
   "metadata": {
    "collapsed": false
   },
   "outputs": [
    {
     "name": "stdout",
     "output_type": "stream",
     "text": [
      "Python Function\n",
      "Python pi = 3.140\n",
      "1 loops, best of 3: 2.24 s per loop\n"
     ]
    }
   ],
   "source": [
    "# Run python function\n",
    "print(\"Python Function\")\n",
    "print(\"Python pi = {:.3f}\".format(python_pi_example(N)))\n",
    "%timeit python_pi_example(N)"
   ]
  },
  {
   "cell_type": "code",
   "execution_count": 8,
   "metadata": {
    "collapsed": false
   },
   "outputs": [
    {
     "name": "stdout",
     "output_type": "stream",
     "text": [
      "Smaller Python Function\n",
      "Smaller Python pi = 3.141\n",
      "1 loops, best of 3: 2.05 s per loop\n"
     ]
    }
   ],
   "source": [
    "# Run smaller python function\n",
    "print(\"Smaller Python Function\")\n",
    "print(\"Smaller Python pi = {:.3f}\".format(python_small_pi_example(N)))\n",
    "%timeit python_small_pi_example(N)"
   ]
  },
  {
   "cell_type": "code",
   "execution_count": 9,
   "metadata": {
    "collapsed": false
   },
   "outputs": [
    {
     "name": "stdout",
     "output_type": "stream",
     "text": [
      "Numpy Function\n",
      "Numpy pi = 3.143\n",
      "10 loops, best of 3: 74.3 ms per loop\n"
     ]
    }
   ],
   "source": [
    "# Run numpy function\n",
    "print(\"Numpy Function\")\n",
    "print(\"Numpy pi = {:.3f}\".format(numpy_pi_example(N)))\n",
    "%timeit numpy_pi_example(N)"
   ]
  },
  {
   "cell_type": "code",
   "execution_count": 10,
   "metadata": {
    "collapsed": false
   },
   "outputs": [
    {
     "name": "stdout",
     "output_type": "stream",
     "text": [
      "Jitted Python Function\n",
      "Jitted pi = 3.141\n",
      "10 loops, best of 3: 28.7 ms per loop\n"
     ]
    }
   ],
   "source": [
    "# Run Jitted Python function\n",
    "print(\"Jitted Python Function\")\n",
    "print(\"Jitted pi = {:.3f}\".format(jitted_python_pi_example(N)))\n",
    "%timeit jitted_python_pi_example(N)"
   ]
  },
  {
   "cell_type": "code",
   "execution_count": 11,
   "metadata": {
    "collapsed": false
   },
   "outputs": [
    {
     "name": "stdout",
     "output_type": "stream",
     "text": [
      "Cython Compiled Python Function\n",
      "Cython pi = 3.143\n",
      "1 loops, best of 3: 1.91 s per loop\n"
     ]
    }
   ],
   "source": [
    "print(\"Cython Compiled Python Function\")\n",
    "print(\"Cython pi = {:.3f}\".format(cython_pi_example(N)))\n",
    "%timeit cython_pi_example(N)"
   ]
  }
 ],
 "metadata": {
  "kernelspec": {
   "display_name": "Python 3",
   "language": "python",
   "name": "python3"
  },
  "language_info": {
   "codemirror_mode": {
    "name": "ipython",
    "version": 3
   },
   "file_extension": ".py",
   "mimetype": "text/x-python",
   "name": "python",
   "nbconvert_exporter": "python",
   "pygments_lexer": "ipython3",
   "version": "3.5.1"
  }
 },
 "nbformat": 4,
 "nbformat_minor": 0
}
